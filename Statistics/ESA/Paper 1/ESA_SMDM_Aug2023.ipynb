{
  "cells": [
    {
      "cell_type": "markdown",
      "id": "ae066f34",
      "metadata": {
        "id": "ae066f34"
      },
      "source": [
        "### Aug 2022: END SEMESTER ASSESSMENT (ESA)\n",
        "## M TECH DATA SCIENCE AND MACHINE LEARNING_ SEMESTER I\n",
        "### UE20CS902 – Statistical Methods for Decision Making\n",
        "  "
      ]
    },
    {
      "cell_type": "code",
      "execution_count": 1,
      "id": "4cb67927",
      "metadata": {
        "id": "4cb67927"
      },
      "outputs": [],
      "source": [
        "# import 'pandas'\n",
        "import pandas as pd\n",
        "\n",
        "# import 'numpy'\n",
        "import numpy as np\n",
        "\n",
        "# import subpackage of matplotlib\n",
        "import matplotlib.pyplot as plt\n",
        "\n",
        "# import 'seaborn'\n",
        "import seaborn as sns\n",
        "\n",
        "# to suppress warnings\n",
        "from warnings import filterwarnings\n",
        "filterwarnings('ignore')\n",
        "\n",
        "# import statsmodels\n",
        "import statsmodels.api as sm\n",
        "\n",
        "# import 'stats' package from scipy library\n",
        "import scipy.stats as stats\n",
        "\n",
        "# import statistics to perform statistical computations\n",
        "import statistics\n",
        "\n",
        "# to test the normality\n",
        "from scipy.stats import shapiro\n",
        "\n",
        "# import a library to perform Z-test\n",
        "from statsmodels.stats import weightstats as stests\n",
        "\n",
        "# import statsmodels\n",
        "import statsmodels.api as sm\n",
        "from statsmodels.formula.api import ols\n",
        "from statsmodels.stats.anova import anova_lm\n",
        "\n",
        "# import the functions to perform Chi-square tests\n",
        "from scipy.stats import chi2_contingency\n",
        "from scipy.stats import chi2\n",
        "from scipy.stats import chisquare"
      ]
    },
    {
      "cell_type": "code",
      "source": [
        "FILE1 = \"https://github.com/HarpyTech/DSAI-MTech/blob/7f59b3a57c37d85df415e040a2b55938d196652e/Statistics/ESA/Paper%201/paired_data.xlsx\"\n",
        "FILE2 = \"https://github.com/HarpyTech/DSAI-MTech/blob/7f59b3a57c37d85df415e040a2b55938d196652e/Statistics/ESA/Paper%201/admission.xlsx\""
      ],
      "metadata": {
        "id": "3QlZfifQktHM"
      },
      "id": "3QlZfifQktHM",
      "execution_count": 2,
      "outputs": []
    },
    {
      "cell_type": "markdown",
      "id": "4e68c1b9",
      "metadata": {
        "id": "4e68c1b9"
      },
      "source": [
        "# Section B"
      ]
    },
    {
      "cell_type": "markdown",
      "id": "480a4255",
      "metadata": {
        "id": "480a4255"
      },
      "source": [
        "#### 3a) Jim is a real estate agent who sells large commercial buildings, Because his commission is so large on a single sale,   he does not need to sell many buildings to make a good living. History shows that Jim has a record of selling an average of eight large commercial buildings every 275 days.  In a 60-day period, what is the probability that Jim will make\n",
        "\n",
        "- No sales?\n",
        "- One sale?\n",
        "- Two or more sales?\n",
        "- In a 90-day period, what is the probability that Jim will make no sales? (1+1+1+2)\n"
      ]
    },
    {
      "cell_type": "code",
      "execution_count": 3,
      "id": "e9f4bd33",
      "metadata": {
        "id": "e9f4bd33",
        "outputId": "72689751-d38f-4537-d941-39442201580d",
        "colab": {
          "base_uri": "https://localhost:8080/"
        }
      },
      "outputs": [
        {
          "output_type": "stream",
          "name": "stdout",
          "text": [
            "Probability of no sales in 60 days: 0.1746\n",
            "Probability of one sale in 60 days: 0.3047\n",
            "Probability of two or more sales in 60 days: 0.5207\n",
            "Probability of no sales in 90 days: 0.0729\n"
          ]
        }
      ],
      "source": [
        "# Given data\n",
        "average_sales = 8\n",
        "days = 275\n",
        "lambda_per_day = average_sales / days\n",
        "\n",
        "# Calculate lambda for 60 days and 90 days\n",
        "lambda_60 = lambda_per_day * 60\n",
        "lambda_90 = lambda_per_day * 90\n",
        "\n",
        "# Probability of no sales in 60 days\n",
        "prob_no_sales_60 = stats.poisson.pmf(0, lambda_60)\n",
        "\n",
        "# Probability of one sale in 60 days\n",
        "prob_one_sale_60 = stats.poisson.pmf(1, lambda_60)\n",
        "\n",
        "# Probability of two or more sales in 60 days\n",
        "prob_two_or_more_sales_60 = 1 - (prob_no_sales_60 + prob_one_sale_60)\n",
        "\n",
        "# Probability of no sales in 90 days\n",
        "prob_no_sales_90 = stats.poisson.pmf(0, lambda_90)\n",
        "\n",
        "# Print the results\n",
        "print(f\"Probability of no sales in 60 days: {prob_no_sales_60:.4f}\")\n",
        "print(f\"Probability of one sale in 60 days: {prob_one_sale_60:.4f}\")\n",
        "print(f\"Probability of two or more sales in 60 days: {prob_two_or_more_sales_60:.4f}\")\n",
        "print(f\"Probability of no sales in 90 days: {prob_no_sales_90:.4f}\")\n"
      ]
    },
    {
      "cell_type": "markdown",
      "id": "58909b1f",
      "metadata": {
        "id": "58909b1f"
      },
      "source": [
        "#### 3b) The compressive strength of samples of cement can be modeled by a normal distribution with a mean of 6000 kilograms per square centimeter and a standard deviation of 100 kilograms per square centimeter.\n",
        "\n",
        "- i. What is the probability that a sample’s strength is less than 6250 Kg/cm2 ( 2mark)\n",
        "- ii. What is the probability that a sample’s strength is between 5800 and 5900 Kg/cm2(2 mark)\n",
        "- iii. What strength is exceeded by 95% of the samples (2 mark)k\n"
      ]
    },
    {
      "cell_type": "code",
      "execution_count": 5,
      "id": "2bbd86ca",
      "metadata": {
        "id": "2bbd86ca",
        "outputId": "9ac4cd6b-a885-4a65-8b76-bcd3bace444c",
        "colab": {
          "base_uri": "https://localhost:8080/"
        }
      },
      "outputs": [
        {
          "output_type": "stream",
          "name": "stdout",
          "text": [
            "Probability that a sample’s strength is less than 6250 Kg/cm²: 0.9938\n",
            "Probability that a sample’s strength is between 5800 and 5900 Kg/cm²: 0.1359\n",
            "Strength exceeded by 95% of the samples: 6164.49 Kg/cm²\n"
          ]
        }
      ],
      "source": [
        "# Given data\n",
        "mean = 6000\n",
        "std_dev = 100\n",
        "\n",
        "# i. Probability that a sample’s strength is less than 6250 Kg/cm²\n",
        "prob_less_than_6250 = stats.norm.cdf(6250, mean, std_dev)\n",
        "\n",
        "# ii. Probability that a sample’s strength is between 5800 and 5900 Kg/cm²\n",
        "prob_between_5800_and_5900 = stats.norm.cdf(5900, mean, std_dev) - stats.norm.cdf(5800, mean, std_dev)\n",
        "\n",
        "# iii. Strength exceeded by 95% of the samples\n",
        "strength_exceeded_by_95_percent = stats.norm.ppf(0.95, mean, std_dev)\n",
        "\n",
        "# Print the results\n",
        "print(f\"Probability that a sample’s strength is less than 6250 Kg/cm²: {prob_less_than_6250:.4f}\")\n",
        "print(f\"Probability that a sample’s strength is between 5800 and 5900 Kg/cm²: {prob_between_5800_and_5900:.4f}\")\n",
        "print(f\"Strength exceeded by 95% of the samples: {strength_exceeded_by_95_percent:.2f} Kg/cm²\")"
      ]
    },
    {
      "cell_type": "markdown",
      "id": "2c127b16",
      "metadata": {
        "id": "2c127b16"
      },
      "source": [
        "#### 3c) The production manager at the Yen Sewing Factory claims that on average the diameter of a class 14M bobbin is less than 18 mm. The previous study shows that the standard deviation is 1.7 mm. Consider a sample of 40 class 14M bobbins from a normally distributed population with sample mean diameter as 17.5 mm. Plot the acceptance and rejection regions to test the claim of the production manager with 99% confidence.\n",
        "    i. State the null hypothesis and the alternate hypothesis. (1 mark)\n",
        "    ii. Which test is to be performed. (1 mark)\n",
        "    iii. Compute test statistics, p value. (3 marks)\n",
        "    iv. At the 0.01 significance level, can we conclude that water consumption has increased? (1 mark)\n",
        "\n"
      ]
    },
    {
      "cell_type": "markdown",
      "id": "0e4cf59e",
      "metadata": {
        "id": "0e4cf59e"
      },
      "source": [
        "The null and alternative hypothesis is:\n",
        "\n",
        "H<sub>0</sub>: $\\mu \\geq 18 $<br>\n",
        "H<sub>1</sub>: $\\mu < 18 $"
      ]
    },
    {
      "cell_type": "markdown",
      "id": "921769ef",
      "metadata": {
        "id": "921769ef"
      },
      "source": [
        "Let us plot the acceptance and rejection region for a left-tailed test with 99% confidence."
      ]
    },
    {
      "cell_type": "code",
      "execution_count": null,
      "id": "a9f4bc03",
      "metadata": {
        "id": "a9f4bc03"
      },
      "outputs": [],
      "source": []
    },
    {
      "cell_type": "markdown",
      "source": [
        "\n",
        "#### i. State the null hypothesis and the alternate hypothesis.\n",
        "* Null Hypothesis (\n",
        "H\n",
        "0\n",
        "): The mean diameter of the class 14M bobbin is at least 18 mm.\n",
        "\n",
        "  * H\n",
        "0\n",
        ":\n",
        "μ\n",
        "≥\n",
        "18\n",
        "* Alternate Hypothesis (\n",
        "H\n",
        "1\n",
        "): The mean diameter of the class 14M bobbin is less than 18 mm.\n",
        "\n",
        "  * H\n",
        "1\n",
        ":\n",
        "μ\n",
        "<\n",
        "18\n",
        "\n",
        "#### ii. Which test is to be performed.\n",
        " - We will perform a one-sample z-test because we are comparing the sample mean to a known population mean, and the population standard deviation is known.\n",
        "\n",
        "#### iii. Compute test statistics, p-value.\n",
        "- To compute the test statistics and p-value, we use the following formulas:\n",
        "\n",
        "  **Test Statistic (z):**\n",
        "\n",
        "  The Z-Score formula is given by:\n",
        "\n",
        "\n",
        "    Z = ( X̅ - μ) ÷ (σ ÷ sqrt(n) )\n",
        "\n",
        "\n",
        "where:\n",
        "\n",
        "X̅\n",
        " = sample mean = 17.5 mm\n",
        "\n",
        "μ\n",
        " = population mean = 18 mm\n",
        "\n",
        "σ\n",
        " = standard deviation = 1.7 mm\n",
        "\n",
        "n\n",
        " = sample size = 40\n",
        "\n",
        "p-value: The probability of observing a test statistic as extreme as, or more extreme than, the observed value under the null hypothesis."
      ],
      "metadata": {
        "id": "uj5uLZqHmF8w"
      },
      "id": "uj5uLZqHmF8w"
    },
    {
      "cell_type": "code",
      "execution_count": 7,
      "id": "3423ed25",
      "metadata": {
        "id": "3423ed25",
        "outputId": "364a2ec5-d3e8-4353-bf7c-236b8f8db5fe",
        "colab": {
          "base_uri": "https://localhost:8080/",
          "height": 618
        }
      },
      "outputs": [
        {
          "output_type": "display_data",
          "data": {
            "text/plain": [
              "<Figure size 1000x600 with 1 Axes>"
            ],
            "image/png": "[encoded data removed]"
          },
          "metadata": {}
        },
        {
          "output_type": "stream",
          "name": "stdout",
          "text": [
            "z-score: -1.86\n",
            "p-value: 0.0314\n",
            "Fail to reject the null hypothesis: There is not enough evidence to support the claim.\n"
          ]
        }
      ],
      "source": [
        "# Given data\n",
        "sample_mean = 17.5\n",
        "population_mean = 18\n",
        "std_dev = 1.7\n",
        "sample_size = 40\n",
        "confidence_level = 0.99\n",
        "\n",
        "# Calculate the standard error\n",
        "standard_error = std_dev / np.sqrt(sample_size)\n",
        "\n",
        "# Calculate the z-score\n",
        "z_score = (sample_mean - population_mean) / standard_error\n",
        "\n",
        "# Calculate the p-value\n",
        "p_value = stats.norm.cdf(z_score)\n",
        "\n",
        "# Determine the critical value for a one-tailed test at 99% confidence\n",
        "z_critical = stats.norm.ppf(1 - confidence_level)\n",
        "\n",
        "# Plotting the acceptance and rejection regions\n",
        "x = np.linspace(-4, 4, 1000)\n",
        "y = stats.norm.pdf(x, 0, 1)\n",
        "\n",
        "plt.figure(figsize=(10, 6))\n",
        "plt.plot(x, y, label='Standard Normal Distribution')\n",
        "\n",
        "# Fill the rejection region\n",
        "plt.fill_between(x, 0, y, where=(x < z_critical), color='red', alpha=0.5, label='Rejection Region')\n",
        "\n",
        "# Fill the acceptance region\n",
        "plt.fill_between(x, 0, y, where=(x >= z_critical), color='green', alpha=0.5, label='Acceptance Region')\n",
        "\n",
        "# Plot the z-score\n",
        "plt.axvline(z_score, color='blue', linestyle='--', label=f'z-score = {z_score:.2f}')\n",
        "\n",
        "# Add labels and legend\n",
        "plt.title('Acceptance and Rejection Regions for One-Sample z-Test')\n",
        "plt.xlabel('z')\n",
        "plt.ylabel('Probability Density')\n",
        "plt.legend()\n",
        "plt.grid(True)\n",
        "plt.show()\n",
        "\n",
        "# Print the z-score and p-value\n",
        "print(f\"z-score: {z_score:.2f}\")\n",
        "print(f\"p-value: {p_value:.4f}\")\n",
        "\n",
        "# Conclusion\n",
        "if z_score < z_critical:\n",
        "    print(\"Reject the null hypothesis: The mean diameter is less than 18 mm.\")\n",
        "else:\n",
        "    print(\"Fail to reject the null hypothesis: There is not enough evidence to support the claim.\")"
      ]
    },
    {
      "cell_type": "code",
      "execution_count": null,
      "id": "4f7f31bd",
      "metadata": {
        "id": "4f7f31bd"
      },
      "outputs": [],
      "source": []
    },
    {
      "cell_type": "code",
      "execution_count": null,
      "id": "0f9651d8",
      "metadata": {
        "id": "0f9651d8"
      },
      "outputs": [],
      "source": []
    },
    {
      "cell_type": "markdown",
      "id": "cb9399e6",
      "metadata": {
        "id": "cb9399e6"
      },
      "source": [
        "#### 3d) Two catalysts are being analyzed to determine how they affect the mean yield of a chemical process. Specifically, catalysts 1 is currently in use, but catalyst 2 is acceptable. Since catalyst is cheaper, it should be adopted, providing it does not change the process yield. A test is run in the pilot plant and results in the data shown table. Is there any difference in mean yields for an α =.05 and assume equal variances\n",
        "\n",
        "```\n",
        "Number\t     1\t     2\t   3\t   4\t    5\t    6\t    7\t   8\n",
        "Catlayst1\t91.50\t94.18\t92.18\t95.39\t91.79\t89.07\t94.72   89.21\n",
        "Catalyst2\t89.19\t90.95\t90.46\t93.21\t97.19\t97.04\t91.07   92.75\n",
        "\n",
        "```\n",
        "\n",
        "- i)\tState the hypothesis and type of test to be used                    2 marks\n",
        "- ii)\tTest the hypothesis and conclude                                    4 marks"
      ]
    },
    {
      "cell_type": "markdown",
      "source": [
        "#### i) State the hypothesis and type of test to be used\n",
        "*  Null Hypothesis (\n",
        "H\n",
        "0\n",
        "): There is no difference in the mean yields of the two catalysts.\n",
        "\n",
        "    H\n",
        "0\n",
        ":\n",
        "μ\n",
        "1\n",
        "=\n",
        "μ\n",
        "2\n",
        "* Alternate Hypothesis (\n",
        "H\n",
        "1\n",
        "): There is a difference in the mean yields of the two catalysts.\n",
        "\n",
        "    H\n",
        "1\n",
        ":\n",
        "μ\n",
        "1\n",
        "≠\n",
        "μ\n",
        "2\n",
        "* Type of Test: We will use a two-sample t-test assuming equal variances to compare the means of the two catalysts."
      ],
      "metadata": {
        "id": "sk0mE-MbtdTF"
      },
      "id": "sk0mE-MbtdTF"
    },
    {
      "cell_type": "code",
      "execution_count": 8,
      "id": "3b0ad95c",
      "metadata": {
        "id": "3b0ad95c",
        "outputId": "0b0f610f-0b93-4c19-dc18-d0485369fcec",
        "colab": {
          "base_uri": "https://localhost:8080/"
        }
      },
      "outputs": [
        {
          "output_type": "stream",
          "name": "stdout",
          "text": [
            "Mean of Catalyst 1: 92.25\n",
            "Mean of Catalyst 2: 92.73\n",
            "Standard Deviation of Catalyst 1: 2.39\n",
            "Standard Deviation of Catalyst 2: 2.98\n",
            "Pooled Standard Deviation: 2.70\n",
            "t-statistic: -0.35\n",
            "Critical t-value: 2.14\n",
            "p-value: 0.7289\n",
            "Fail to reject the null hypothesis: There is no significant difference in the mean yields of the two catalysts.\n"
          ]
        }
      ],
      "source": [
        "# Given data\n",
        "catalyst1 = np.array([91.50, 94.18, 92.18, 95.39, 91.79, 89.07, 94.72, 89.21])\n",
        "catalyst2 = np.array([89.19, 90.95, 90.46, 93.21, 97.19, 97.04, 91.07, 92.75])\n",
        "\n",
        "# Calculate means\n",
        "mean1 = np.mean(catalyst1)\n",
        "mean2 = np.mean(catalyst2)\n",
        "\n",
        "# Calculate standard deviations\n",
        "std1 = np.std(catalyst1, ddof=1)\n",
        "std2 = np.std(catalyst2, ddof=1)\n",
        "\n",
        "# Calculate pooled standard deviation\n",
        "n1 = len(catalyst1)\n",
        "n2 = len(catalyst2)\n",
        "pooled_std = np.sqrt(((n1 - 1) * std1**2 + (n2 - 1) * std2**2) / (n1 + n2 - 2))\n",
        "\n",
        "# Calculate t-statistic\n",
        "t_statistic = (mean1 - mean2) / (pooled_std * np.sqrt(1/n1 + 1/n2))\n",
        "\n",
        "# Degrees of freedom\n",
        "df = n1 + n2 - 2\n",
        "\n",
        "# Critical t-value for two-tailed test with alpha = 0.05\n",
        "alpha = 0.05\n",
        "t_critical = stats.t.ppf(1 - alpha/2, df)\n",
        "\n",
        "# Calculate p-value\n",
        "p_value = 2 * (1 - stats.t.cdf(abs(t_statistic), df))\n",
        "\n",
        "# Print results\n",
        "print(f\"Mean of Catalyst 1: {mean1:.2f}\")\n",
        "print(f\"Mean of Catalyst 2: {mean2:.2f}\")\n",
        "print(f\"Standard Deviation of Catalyst 1: {std1:.2f}\")\n",
        "print(f\"Standard Deviation of Catalyst 2: {std2:.2f}\")\n",
        "print(f\"Pooled Standard Deviation: {pooled_std:.2f}\")\n",
        "print(f\"t-statistic: {t_statistic:.2f}\")\n",
        "print(f\"Critical t-value: {t_critical:.2f}\")\n",
        "print(f\"p-value: {p_value:.4f}\")\n",
        "\n",
        "# Conclusion\n",
        "if abs(t_statistic) > t_critical:\n",
        "    print(\"Reject the null hypothesis: There is a significant difference in the mean yields of the two catalysts.\")\n",
        "else:\n",
        "    print(\"Fail to reject the null hypothesis: There is no significant difference in the mean yields of the two catalysts.\")"
      ]
    },
    {
      "cell_type": "code",
      "execution_count": null,
      "id": "6129929b",
      "metadata": {
        "id": "6129929b"
      },
      "outputs": [],
      "source": []
    },
    {
      "cell_type": "markdown",
      "id": "0edb18fe",
      "metadata": {
        "id": "0edb18fe"
      },
      "source": [
        "#### 3e) A multinational company had organized a presentation activity to test the soft skills of their 6 sales executives and then offered them a skill development course. After the completion of the course, the executives again appeared for the presentation and the scores before and after the course are recorded. Test the company's claim that the course was effective in developing soft skills with 95% confidence using the p-value technique.\n",
        "\n",
        "    Consider the scores given in the file `paired_data.xlsx`\n",
        "    please consider the first two attributes\n",
        "\n",
        "1. Check if the attributes are normally distributed (2 marks)\n",
        "2. State the null hypothesis and alternate hypothesis (1 mark)\n",
        "3. Test the hypothesis and conclude. (3 marks)\n",
        "\n"
      ]
    },
    {
      "cell_type": "code",
      "execution_count": null,
      "id": "08d7da57",
      "metadata": {
        "id": "08d7da57"
      },
      "outputs": [],
      "source": [
        "import io\n",
        "import requests\n",
        "\n",
        "# Load the data\n",
        "url = FILE1  # Assuming FILE1 holds the URL to the Excel file\n",
        "response = requests.get(url)\n",
        "response.raise_for_status()  # Raise an exception for bad responses (4xx or 5xx)\n",
        "\n",
        "\n",
        "try:\n",
        "    data = pd.read_excel(FILE1, engine='openpyxl') # pd.read_excel(io.BytesIO(response.content), engine='openpyxl')\n",
        "except Exception as e:\n",
        "    print(f\"Error reading Excel file: {e}\")\n",
        "    # Add debugging or alternative handling if needed\n",
        "\n",
        "\n",
        "# Extract the first two attributes (scores before and after the course)\n",
        "before_scores = data.iloc[:, 0]\n",
        "after_scores = data.iloc[:, 1]\n",
        "\n",
        "# Perform the Shapiro-Wilk test\n",
        "shapiro_before = stats.shapiro(before_scores)\n",
        "shapiro_after = stats.shapiro(after_scores)\n",
        "\n",
        "print(f\"Shapiro-Wilk test for before scores: W={shapiro_before[0]:.4f}, p-value={shapiro_before[1]:.4f}\")\n",
        "print(f\"Shapiro-Wilk test for after scores: W={shapiro_after[0]:.4f}, p-value={shapiro_after[1]:.4f}\")\n",
        "\n",
        "# Conclusion\n",
        "if shapiro_before[1] > 0.05 and shapiro_after[1] > 0.05:\n",
        "    print(\"Both attributes are normally distributed.\")\n",
        "else:\n",
        "    print(\"At least one of the attributes is not normally distributed.\")"
      ]
    },
    {
      "cell_type": "markdown",
      "source": [
        "![image.png](data:image/png;base64,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)"
      ],
      "metadata": {
        "id": "qEpqhImzv2jN"
      },
      "id": "qEpqhImzv2jN"
    },
    {
      "cell_type": "code",
      "execution_count": 10,
      "id": "340c507d",
      "metadata": {
        "id": "340c507d",
        "outputId": "543e6a2c-58cf-443b-b235-94e1337834d8",
        "colab": {
          "base_uri": "https://localhost:8080/"
        }
      },
      "outputs": [
        {
          "output_type": "stream",
          "name": "stdout",
          "text": [
            "Requirement already satisfied: openpyxl in /usr/local/lib/python3.10/dist-packages (3.1.5)\n",
            "Requirement already satisfied: et-xmlfile in /usr/local/lib/python3.10/dist-packages (from openpyxl) (2.0.0)\n"
          ]
        }
      ],
      "source": [
        "!pip install openpyxl"
      ]
    },
    {
      "cell_type": "code",
      "execution_count": null,
      "id": "dd1d30c9",
      "metadata": {
        "id": "dd1d30c9"
      },
      "outputs": [],
      "source": [
        "# Perform the paired t-test\n",
        "t_statistic, p_value = stats.ttest_rel(before_scores, after_scores, alternative='less')\n",
        "\n",
        "print(f\"t-statistic: {t_statistic:.4f}\")\n",
        "print(f\"p-value: {p_value:.4f}\")\n",
        "\n",
        "# Conclusion\n",
        "alpha = 0.05\n",
        "if p_value < alpha:\n",
        "    print(\"Reject the null hypothesis: The skill development course has improved the soft skills of the sales executives.\")\n",
        "else:\n",
        "    print(\"Fail to reject the null hypothesis: There is not enough evidence to support the claim that the course has improved the soft skills.\")"
      ]
    },
    {
      "cell_type": "markdown",
      "id": "df62484c",
      "metadata": {
        "id": "df62484c"
      },
      "source": [
        "# Section C"
      ]
    },
    {
      "cell_type": "markdown",
      "id": "cac006bb",
      "metadata": {
        "id": "cac006bb"
      },
      "source": [
        "### 4a) Consider the admission.xlsx file and answer the following questions\n"
      ]
    },
    {
      "cell_type": "markdown",
      "id": "858acb24",
      "metadata": {
        "id": "858acb24"
      },
      "source": [
        "DATA DESCRIPTION:\n",
        "The data set consists of complete educational details of students right from their schooling to MBA and previous work experience. Our main objective is to predict the Salary of the students based on the info available\n",
        "ATTRIBUTES:\n",
        "\n",
        "    SlNo - ID of the student\n",
        "    Gender - Gender of Student\n",
        "    Percent_SSC - Percentage of marks scored in SSC\n",
        "    Board_SSC - Types of Boards in SSC\n",
        "    Percent_HSC - Percentage of marks scored in HSC\n",
        "    Board_HSC - Types of Boards in HSC\n",
        "    Stream_HSC - Specialization in HSC\n",
        "    Percent Degree - Percentage of marks scored in Degree\n",
        "    Course_Degree - Different courses in degree\n",
        "    Experience_Yrs - Work Experience of the Students\n",
        "    Entrance_Test - Test which students give for MBA college Entrance\n",
        "    Percentile_ET - Percentage of marks scored in Entrance_Test\n",
        "    Percent_MBA - Percentage of marks scored in MBA\n",
        "    Specialization_MBA - Specialization in MBA\n",
        "    Marks Communication - Percentage of marks scored in Communication\n",
        "    Marks_Projectwork - Percentage of marks scored in Project Work\n",
        "    Placement - Whether Student got placed or not\n",
        "    Salary - Salary of students\n"
      ]
    },
    {
      "cell_type": "code",
      "execution_count": null,
      "id": "e0fb9888",
      "metadata": {
        "id": "e0fb9888",
        "outputId": "89cdd50e-d09e-440a-eeab-6d591e94c4ee"
      },
      "outputs": [
        {
          "data": {
            "text/html": [
              "<div>\n",
              "<style scoped>\n",
              "    .dataframe tbody tr th:only-of-type {\n",
              "        vertical-align: middle;\n",
              "    }\n",
              "\n",
              "    .dataframe tbody tr th {\n",
              "        vertical-align: top;\n",
              "    }\n",
              "\n",
              "    .dataframe thead th {\n",
              "        text-align: right;\n",
              "    }\n",
              "</style>\n",
              "<table border=\"1\" class=\"dataframe\">\n",
              "  <thead>\n",
              "    <tr style=\"text-align: right;\">\n",
              "      <th></th>\n",
              "      <th>SlNo</th>\n",
              "      <th>Gender</th>\n",
              "      <th>Percent_SSC</th>\n",
              "      <th>Board_SSC</th>\n",
              "      <th>Percent_HSC</th>\n",
              "      <th>Board_HSC</th>\n",
              "      <th>Stream_HSC</th>\n",
              "      <th>Percent_Degree</th>\n",
              "      <th>Course_Degree</th>\n",
              "      <th>Experience_Yrs</th>\n",
              "      <th>Entrance_Test</th>\n",
              "      <th>Percentile_ET</th>\n",
              "      <th>Percent_MBA</th>\n",
              "      <th>Specialization_MBA</th>\n",
              "      <th>Marks_Communication</th>\n",
              "      <th>Marks_Projectwork</th>\n",
              "      <th>Placement</th>\n",
              "      <th>Salary</th>\n",
              "    </tr>\n",
              "  </thead>\n",
              "  <tbody>\n",
              "    <tr>\n",
              "      <th>0</th>\n",
              "      <td>1</td>\n",
              "      <td>M</td>\n",
              "      <td>62.00</td>\n",
              "      <td>Others</td>\n",
              "      <td>88.00</td>\n",
              "      <td>Others</td>\n",
              "      <td>Commerce</td>\n",
              "      <td>52.00</td>\n",
              "      <td>Science</td>\n",
              "      <td>0</td>\n",
              "      <td>MAT</td>\n",
              "      <td>55.0</td>\n",
              "      <td>58.80</td>\n",
              "      <td>Marketing &amp; HR</td>\n",
              "      <td>50.0</td>\n",
              "      <td>65.0</td>\n",
              "      <td>Placed</td>\n",
              "      <td>270000</td>\n",
              "    </tr>\n",
              "    <tr>\n",
              "      <th>1</th>\n",
              "      <td>2</td>\n",
              "      <td>M</td>\n",
              "      <td>76.33</td>\n",
              "      <td>ICSE</td>\n",
              "      <td>75.33</td>\n",
              "      <td>Others</td>\n",
              "      <td>Science</td>\n",
              "      <td>75.48</td>\n",
              "      <td>Computer Applications</td>\n",
              "      <td>1</td>\n",
              "      <td>MAT</td>\n",
              "      <td>86.5</td>\n",
              "      <td>66.28</td>\n",
              "      <td>Marketing &amp; Finance</td>\n",
              "      <td>69.0</td>\n",
              "      <td>70.0</td>\n",
              "      <td>Placed</td>\n",
              "      <td>200000</td>\n",
              "    </tr>\n",
              "    <tr>\n",
              "      <th>2</th>\n",
              "      <td>3</td>\n",
              "      <td>M</td>\n",
              "      <td>72.00</td>\n",
              "      <td>Others</td>\n",
              "      <td>78.00</td>\n",
              "      <td>Others</td>\n",
              "      <td>Commerce</td>\n",
              "      <td>66.63</td>\n",
              "      <td>Engineering</td>\n",
              "      <td>0</td>\n",
              "      <td>NaN</td>\n",
              "      <td>0.0</td>\n",
              "      <td>52.91</td>\n",
              "      <td>Marketing &amp; Finance</td>\n",
              "      <td>50.0</td>\n",
              "      <td>61.0</td>\n",
              "      <td>Placed</td>\n",
              "      <td>240000</td>\n",
              "    </tr>\n",
              "    <tr>\n",
              "      <th>3</th>\n",
              "      <td>4</td>\n",
              "      <td>M</td>\n",
              "      <td>60.00</td>\n",
              "      <td>CBSE</td>\n",
              "      <td>63.00</td>\n",
              "      <td>CBSE</td>\n",
              "      <td>Arts</td>\n",
              "      <td>58.00</td>\n",
              "      <td>Management</td>\n",
              "      <td>0</td>\n",
              "      <td>MAT</td>\n",
              "      <td>75.0</td>\n",
              "      <td>57.80</td>\n",
              "      <td>Marketing &amp; Finance</td>\n",
              "      <td>54.0</td>\n",
              "      <td>66.0</td>\n",
              "      <td>Placed</td>\n",
              "      <td>250000</td>\n",
              "    </tr>\n",
              "    <tr>\n",
              "      <th>4</th>\n",
              "      <td>5</td>\n",
              "      <td>M</td>\n",
              "      <td>61.00</td>\n",
              "      <td>CBSE</td>\n",
              "      <td>55.00</td>\n",
              "      <td>ISC</td>\n",
              "      <td>Science</td>\n",
              "      <td>54.00</td>\n",
              "      <td>Engineering</td>\n",
              "      <td>1</td>\n",
              "      <td>MAT</td>\n",
              "      <td>66.0</td>\n",
              "      <td>59.43</td>\n",
              "      <td>Marketing &amp; HR</td>\n",
              "      <td>52.0</td>\n",
              "      <td>65.0</td>\n",
              "      <td>Placed</td>\n",
              "      <td>180000</td>\n",
              "    </tr>\n",
              "  </tbody>\n",
              "</table>\n",
              "</div>"
            ],
            "text/plain": [
              "   SlNo Gender  Percent_SSC Board_SSC  Percent_HSC Board_HSC Stream_HSC  \\\n",
              "0     1      M        62.00    Others        88.00    Others   Commerce   \n",
              "1     2      M        76.33      ICSE        75.33    Others    Science   \n",
              "2     3      M        72.00    Others        78.00    Others   Commerce   \n",
              "3     4      M        60.00      CBSE        63.00      CBSE       Arts   \n",
              "4     5      M        61.00      CBSE        55.00       ISC    Science   \n",
              "\n",
              "   Percent_Degree          Course_Degree  Experience_Yrs Entrance_Test  \\\n",
              "0           52.00                Science               0           MAT   \n",
              "1           75.48  Computer Applications               1           MAT   \n",
              "2           66.63            Engineering               0           NaN   \n",
              "3           58.00             Management               0           MAT   \n",
              "4           54.00            Engineering               1           MAT   \n",
              "\n",
              "   Percentile_ET  Percent_MBA   Specialization_MBA  Marks_Communication  \\\n",
              "0           55.0        58.80       Marketing & HR                 50.0   \n",
              "1           86.5        66.28  Marketing & Finance                 69.0   \n",
              "2            0.0        52.91  Marketing & Finance                 50.0   \n",
              "3           75.0        57.80  Marketing & Finance                 54.0   \n",
              "4           66.0        59.43       Marketing & HR                 52.0   \n",
              "\n",
              "   Marks_Projectwork Placement  Salary  \n",
              "0               65.0    Placed  270000  \n",
              "1               70.0    Placed  200000  \n",
              "2               61.0    Placed  240000  \n",
              "3               66.0    Placed  250000  \n",
              "4               65.0    Placed  180000  "
            ]
          },
          "execution_count": 81,
          "metadata": {},
          "output_type": "execute_result"
        }
      ],
      "source": [
        "df = pd.read_excel('admission.xlsx')\n",
        "# display first five observations using head()\n",
        "df.head()"
      ]
    },
    {
      "cell_type": "markdown",
      "id": "1f8f5bbb",
      "metadata": {
        "id": "1f8f5bbb"
      },
      "source": [
        "###### 4a.i)Provide a summary statistics of all the variables and explain which variables has high variability (3 mark) <br> List out the numerical and categorical features in the dataset (2 marks) <br>  (Total- 5marks)\n",
        "\n"
      ]
    },
    {
      "cell_type": "code",
      "execution_count": null,
      "id": "4ddb1234",
      "metadata": {
        "id": "4ddb1234"
      },
      "outputs": [],
      "source": []
    },
    {
      "cell_type": "markdown",
      "id": "37e91dba",
      "metadata": {
        "id": "37e91dba"
      },
      "source": [
        "### 4a.ii)Provide a histogram for the variable salary and Percentage of marks scored in MBA, based on histogram and cacluation of skewness and kurtosis what would you describe. (5 marks)\n",
        "\n"
      ]
    },
    {
      "cell_type": "code",
      "execution_count": null,
      "id": "61bc6dcf",
      "metadata": {
        "id": "61bc6dcf"
      },
      "outputs": [],
      "source": []
    },
    {
      "cell_type": "markdown",
      "id": "cc8b9727",
      "metadata": {
        "id": "cc8b9727"
      },
      "source": [
        "### 4a.iii) Draw a boxplot for salary based on different MBA specialization, what do you observe in terms of outliers, and salary difference for specialization segments. (5 marks)\n",
        "\n"
      ]
    },
    {
      "cell_type": "code",
      "execution_count": null,
      "id": "2b8e0830",
      "metadata": {
        "id": "2b8e0830"
      },
      "outputs": [],
      "source": []
    },
    {
      "cell_type": "markdown",
      "id": "a8ccd128",
      "metadata": {
        "id": "a8ccd128"
      },
      "source": [
        "### 4a.iv) Draw a scatter plot for all of the variables, what is your observation and conclusion for the relationship between students salary and  the other numeric variables (5 marks)\n"
      ]
    },
    {
      "cell_type": "code",
      "execution_count": null,
      "id": "2e74b0ee",
      "metadata": {
        "id": "2e74b0ee"
      },
      "outputs": [],
      "source": []
    },
    {
      "cell_type": "markdown",
      "id": "51532c55",
      "metadata": {
        "id": "51532c55"
      },
      "source": [
        "### 4b. Consider the admission.csv file and answer the following questions"
      ]
    },
    {
      "cell_type": "markdown",
      "id": "dad05228",
      "metadata": {
        "id": "dad05228"
      },
      "source": [
        "### 4b.i)  Check whether the percentile in entrance test from the data follows normal distribution by using a proper plot and with suitable statistical test. (5 marks)"
      ]
    },
    {
      "cell_type": "code",
      "execution_count": null,
      "id": "14bcd271",
      "metadata": {
        "id": "14bcd271"
      },
      "outputs": [],
      "source": []
    },
    {
      "cell_type": "markdown",
      "id": "50479e72",
      "metadata": {
        "id": "50479e72"
      },
      "source": [
        "### 4b.ii)Conduct a hypothesis to see whether there is a difference in terms of salary for students degree specialization of management and engineering. What do you conclude (consider level of significance 0.05) (5 marks)"
      ]
    },
    {
      "cell_type": "code",
      "execution_count": null,
      "id": "e0835a4c",
      "metadata": {
        "id": "e0835a4c"
      },
      "outputs": [],
      "source": []
    },
    {
      "cell_type": "markdown",
      "id": "3cde64b4",
      "metadata": {
        "id": "3cde64b4"
      },
      "source": [
        "### 4b.iii)Conduct an hypothesis to prove whether the salary of a student from commenrce stream is higher than Science stream, do you agree or not. (consider level of significance 0.05)  (5 marks)"
      ]
    },
    {
      "cell_type": "code",
      "execution_count": null,
      "id": "322f08dc",
      "metadata": {
        "id": "322f08dc"
      },
      "outputs": [],
      "source": []
    },
    {
      "cell_type": "markdown",
      "id": "c6275f13",
      "metadata": {
        "id": "c6275f13"
      },
      "source": [
        "\n",
        "\n",
        "### 4b.iv)Conduct an ANOVA to check whether there is salary difference for students with diffetent MBA_specialization of Marketing & Finance , Marketing & HR, Operations & Management, Marketing & IB. State your inferences. (consider level of significance 0.05)  (5 marks)\n",
        "\n",
        "\n",
        "\n",
        "\n"
      ]
    },
    {
      "cell_type": "code",
      "execution_count": null,
      "id": "e7c6083d",
      "metadata": {
        "id": "e7c6083d"
      },
      "outputs": [],
      "source": []
    },
    {
      "cell_type": "code",
      "execution_count": null,
      "id": "e512acba",
      "metadata": {
        "id": "e512acba"
      },
      "outputs": [],
      "source": []
    },
    {
      "cell_type": "code",
      "execution_count": null,
      "id": "27df2e0c",
      "metadata": {
        "id": "27df2e0c"
      },
      "outputs": [],
      "source": []
    },
    {
      "cell_type": "code",
      "execution_count": null,
      "id": "338692d6",
      "metadata": {
        "id": "338692d6"
      },
      "outputs": [],
      "source": []
    }
  ],
  "metadata": {
    "kernelspec": {
      "display_name": "Python 3 (ipykernel)",
      "language": "python",
      "name": "python3"
    },
    "language_info": {
      "codemirror_mode": {
        "name": "ipython",
        "version": 3
      },
      "file_extension": ".py",
      "mimetype": "text/x-python",
      "name": "python",
      "nbconvert_exporter": "python",
      "pygments_lexer": "ipython3",
      "version": "3.10.7"
    },
    "colab": {
      "provenance": []
    }
  },
  "nbformat": 4,
  "nbformat_minor": 5
}